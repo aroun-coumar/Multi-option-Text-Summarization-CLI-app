{
 "cells": [
  {
   "cell_type": "markdown",
   "metadata": {},
   "source": [
    "# Text Summarization \n",
    "\n",
    "1. Opinosis Dataset with golden human written summary for test\n",
    "2. ROUGH 1-gram F1-score for test\n",
    "3. Word Frequency model implementation\n",
    "4. Text rank graph model (Gensim package)\n",
    "5. BERT sentence embedding and Kmeans clustering algorithm\n",
    "\n",
    "Lingyu Li \n",
    "12/9/2019 update"
   ]
  },
  {
   "cell_type": "code",
   "execution_count": 2,
   "metadata": {},
   "outputs": [],
   "source": [
    "import numpy as np\n",
    "import pandas as pd"
   ]
  },
  {
   "cell_type": "markdown",
   "metadata": {},
   "source": [
    "## 1. Opinosis Dataset\n",
    " - Contain **51 paragraphs** of user reviews on a given topic, obtained from Tripdvisor, Edmunds and Amazon\n",
    " - Each paragraph contains 100 sentence in average\n",
    " - Data file also contains **gold standard summaries** of each paragraph for test and validation\n",
    " \n",
    " https://kavita-ganesan.com/opinosis-opinion-dataset/#.Xe6Ya-hKhPY\n",
    " \n",
    " https://github.com/kavgan/opinosis-summarization"
   ]
  },
  {
   "cell_type": "code",
   "execution_count": 4,
   "metadata": {},
   "outputs": [],
   "source": [
    "df = pd.read_csv('opinosis.csv')"
   ]
  },
  {
   "cell_type": "code",
   "execution_count": 5,
   "metadata": {},
   "outputs": [
    {
     "data": {
      "text/plain": [
       "Index(['text', 'topics', 'summary_number_1', 'summary_number_2',\n",
       "       'summary_number_3', 'summary_number_4', 'summary_number_5'],\n",
       "      dtype='object')"
      ]
     },
     "execution_count": 5,
     "metadata": {},
     "output_type": "execute_result"
    }
   ],
   "source": [
    "df.columns"
   ]
  },
  {
   "cell_type": "code",
   "execution_count": 6,
   "metadata": {},
   "outputs": [],
   "source": [
    "## Clean the paragraph\n",
    "def rm_rrn(string):\n",
    "    if isinstance(string, str):\n",
    "        return string.replace('\\r\\r\\n',' ')"
   ]
  },
  {
   "cell_type": "code",
   "execution_count": 7,
   "metadata": {},
   "outputs": [],
   "source": [
    "df = df.applymap(rm_rrn)"
   ]
  },
  {
   "cell_type": "markdown",
   "metadata": {},
   "source": [
    "#### An example paragraph: text1"
   ]
  },
  {
   "cell_type": "code",
   "execution_count": 8,
   "metadata": {},
   "outputs": [
    {
     "data": {
      "text/plain": [
       "\", and is very, very accurate .  but for the most part, we find that the Garmin software provides accurate directions, whereever we intend to go .  This function is not accurate if you don't leave it in battery mode say, when you stop at the Cracker Barrell for lunch and to play one of those trangle games with the tees .  It provides immediate alternatives if the route from the online map program was inaccurate or blocked by an obstacle .  I've used other GPS units, as well as GPS built into cars   and to this day NOTHING beats the accuracy of a Garmin GPS .  It got me from point A to point B with 100% accuracy everytime .  It has yet to disappoint, getting me everywhere with 100% accuracy . 0 out of 5 stars Honest, accurate review, , PLEASE READ !  Aside from that, every destination I've thrown at has been 100% accurate . In closing, this is a fantastic GPS with some very nice features and is very accurate in directions .  Plus, I've always heard that there are  quirks  with any GPS being accurate, having POIs, etc .  DESTINATION TIME, , This is pretty accurate too .  But, it's always very accurate .  The map is pretty accurate and the Point of interest database also is good .  Most of the times, this info was very accurate . I've even used it in the  pedestrian  mode, and it's amazing how accurate it is .   ONLY  is only accurate when an ad says,  Top sirloin steak, ONLY $1 .  The most accurate review stated that these machines are adjunct to a good map and signs on the interstate .  The directions are highly accurate down to a  T  .  Depending on what you are using it for, it is a nice adjunct to a travel trip and the directions are accurate and usually the quickest, but not always .  The screen is easy to see, the voice tells you where you are and it's very accurate .  It was accurate to the minute when it told me when I would arrive home . 0 out of 5 stars GPS Navigator doesn't navigate accurately on a straight road .  I was familiar with the streets and only used the Nuvi to get an accurate arrival time estimate .  but after that it is very easy and quite accurate to use .  The accuracy at this point is very good . While the 255W routing seems generally accurate and logical, on my first use I discovered that it does have some errors in its internal map .  Bottom line is I wanted a unit that is accurate and had reliable satellite connection .  I've used it around town and find it to be extremely accurate . I found the maps to be inaccurate at first, but after I updated them from Garmin's website everything is golden .  A lot of my friends' addresses are inaccurate by any GPS .  It loads quickly, have pretty accurate directions, and can recalculate quickly when I miss a turn .  Because the accuracy is good to the street address level, it may not be able to guide you to the exact location if your destination is inside a shopping mall . I updated to the latest 2010 map soon after I received the unit, so the map is accurate to me .  I was blown away at the accuracy and routing capability this thing had .  I used it the day I bought it,   and then this morning, and as soon as it comes on it is  ready to navigate  The only downfall of this product, and the only reason I did not give it 5 stars is the fact that the speed limit it displays for the road you are on isn't 100% accurate .  If your looking for a nice, accurate GPS for not so much money, got with this one . 0 out of 5 stars Inexpensive, accurate, plenty of features, August 6, 2009  The only glitch I have found so far is that the speed limits are not 100% accurate, although the GPS, amazingly, is able to very accurately tell you how fast your vehicle is moving .  I was a little disappointed in the inaccuracy of the posted speed limit, as I'm guilty of not paying close enough attention to those signs, especially w  interstate speed traps that are constantly changing up and down .  The closest one that gives the most accurate route that I usually take is the Navigon .  After 2 weeks, it has yet to make a mistake, and is always completely accurate ,  even to the point of telling me which side of the street my destination is on .  It has worked well for local driving giving accurate directions for roads and streets . The estimated time to arrival does not seem to calculate the travelling time accurately . Accuracy is as good as any other unit, they all sometimes tell you you have arrived when you haven't, or continue to tell you to turn when you're already there .  Accuracy is determined by the maps .  Less traveled rural roads will not be accurate on any unit .  Accuracy is within a few yards . What the 255w does best is find a street address, business, point of interest, hospital or airport and give you turn, by, turn directions with amazing accuracy .  The Garmin is loaded with very accurate maps that generally know the roads in even the remotest areas . I'm really glad I bought it though, and like the easy to read graphics, the voice used to tell you the name of the street you are to turn on, the uncannily accurate estimates of mileage and time of arrival at your destination . My new Garmin 255w had very Easy Set Up, Accurate Directions to locations, User Friendly Unit to anyone in my vehicle who tried it .  I had a GPS 10, years ago when I owned a boat that was difficult to use and with very poor accuracy so I had assumed that the road GPS wasn't any better .  Practiced visiting places I already knew to see how accurate the directions and maps would be .  Easy to use, excellent accuracy, nice and intuitive interface .  The directions provided have all been quite accurate thus far . ,  Very Accurate but with one small glitch I found ,  I'll explain in the CONS This is a great GPS, it is so easy to use and it is always accurate . Very easy to operate and pretty accurate as well, only led me astray once and that was in northern Maine where roads are few and paved ones fewer .  Easy to use and amazed at how accurate this item is . To date it's been a very easy to use and accurate .  Mounted really easily and has been very accurate .  seems to be rather accurate .  It was accurate on determing original directions and recalculating when necessary . Highly accurate, POIs are great .  I can't believe how accurate and detailed the information estimated time of arrival,speed limits along the way,and detailed map of my route, to name a few .  Speed of calculation, accuracy, and simplicity of operation are top notch . \""
      ]
     },
     "execution_count": 8,
     "metadata": {},
     "output_type": "execute_result"
    }
   ],
   "source": [
    "text1 = df['text'][0]\n",
    "text1"
   ]
  },
  {
   "cell_type": "markdown",
   "metadata": {},
   "source": [
    "#### Human written summary of text1"
   ]
  },
  {
   "cell_type": "code",
   "execution_count": 7,
   "metadata": {},
   "outputs": [
    {
     "data": {
      "text/plain": [
       "'This unit is generally quite accurate.   Set-up and usage are considered to be very easy.  The maps can be updated, and tend to be reliable. '"
      ]
     },
     "execution_count": 7,
     "metadata": {},
     "output_type": "execute_result"
    }
   ],
   "source": [
    "df['summary_number_1'][0]"
   ]
  },
  {
   "cell_type": "markdown",
   "metadata": {},
   "source": [
    "## 2. Rouge Score for text summarization"
   ]
  },
  {
   "cell_type": "markdown",
   "metadata": {},
   "source": [
    "#### Metric: Rouge score (Recall-Oriented Understudy for Gisting Evaluation)\n",
    "     - Rouge N: measure N-gram overlap between model output summary and reference summary\n",
    "     - Rouge L: measures longest matching sequence of words using LCS(longest Common Subsequence)\n",
    "Rouge score is composed of: \n",
    "    - Precision = # of overlapping words / total words in the reference summary\n",
    "    - Recall = # of overlapping words / total workds in the model generated summary\n",
    "    - F1-score\n",
    "Interpretation:\n",
    "    - ROUGE-n recall=40% : 40% of the n-grams in the reference summary are also present in the generated summary.\n",
    "    - ROUGE-n precision=40% : 40% of the n-grams in the generated summary are also present in the reference summary.\n",
    "    - ROUGE-n F1-score=40% is like any F1-score."
   ]
  },
  {
   "cell_type": "code",
   "execution_count": 15,
   "metadata": {},
   "outputs": [],
   "source": [
    "from rouge import Rouge\n",
    "rouge = Rouge()"
   ]
  },
  {
   "cell_type": "markdown",
   "metadata": {},
   "source": [
    "**lets see the two gold summaries Rouge score**\n",
    "\n",
    "1-gram F1-score: 0.378"
   ]
  },
  {
   "cell_type": "code",
   "execution_count": 20,
   "metadata": {},
   "outputs": [
    {
     "data": {
      "text/plain": [
       "[{'rouge-1': {'f': 0.37837837355734116,\n",
       "   'p': 0.4666666666666667,\n",
       "   'r': 0.3181818181818182},\n",
       "  'rouge-2': {'f': 0.051282046548323905,\n",
       "   'p': 0.06666666666666667,\n",
       "   'r': 0.041666666666666664},\n",
       "  'rouge-l': {'f': 0.353918562361737,\n",
       "   'p': 0.4666666666666667,\n",
       "   'r': 0.3181818181818182}}]"
      ]
     },
     "execution_count": 20,
     "metadata": {},
     "output_type": "execute_result"
    }
   ],
   "source": [
    "rouge.get_scores(df['summary_number_2'][0], df['summary_number_1'][0])"
   ]
  },
  {
   "cell_type": "markdown",
   "metadata": {
    "collapsed": true
   },
   "source": [
    "## 3. Word Frequency Algorithm\n",
    "Bag of words based algorithm\n",
    " - compute word frequency\n",
    " - score each sentence according to word frequency (can be weighted)\n",
    " - generate threshold of sentence selection (average score, etc.)\n",
    " - Selected sentence (score > threshold) as summary"
   ]
  },
  {
   "cell_type": "code",
   "execution_count": 9,
   "metadata": {},
   "outputs": [],
   "source": [
    "import word_frequency_model as wf"
   ]
  },
  {
   "cell_type": "markdown",
   "metadata": {},
   "source": [
    "#### summary of word frequency model on text1\n",
    "1-gram F1-score: 0.156"
   ]
  },
  {
   "cell_type": "code",
   "execution_count": 31,
   "metadata": {},
   "outputs": [
    {
     "data": {
      "text/plain": [
       "\" , and is very, very accurate . It has yet to disappoint, getting me everywhere with 100% accuracy . Aside from that, every destination I've thrown at has been 100% accurate . DESTINATION TIME, , This is pretty accurate too . But, it's always very accurate . Most of the times, this info was very accurate . The directions are highly accurate down to a  T  . It was accurate to the minute when it told me when I would arrive home . The accuracy at this point is very good . Accuracy is as good as any other unit, they all sometimes tell you you have arrived when you haven't, or continue to tell you to turn when you're already there . Accuracy is determined by the maps . Accuracy is within a few yards . Easy to use, excellent accuracy, nice and intuitive interface . The directions provided have all been quite accurate thus far . Easy to use and amazed at how accurate this item is . Mounted really easily and has been very accurate . seems to be rather accurate . It was accurate on determing original directions and recalculating when necessary . Highly accurate, POIs are great . Speed of calculation, accuracy, and simplicity of operation are top notch .\""
      ]
     },
     "execution_count": 31,
     "metadata": {},
     "output_type": "execute_result"
    }
   ],
   "source": [
    "wf_summary1 = wf.summarize_text_wf(text1) ## summary output from \n",
    "wf_summary1"
   ]
  },
  {
   "cell_type": "code",
   "execution_count": 23,
   "metadata": {},
   "outputs": [
    {
     "data": {
      "text/plain": [
       "[{'rouge-1': {'f': 0.15602836616065593, 'p': 0.09243697478991597, 'r': 0.5},\n",
       "  'rouge-2': {'f': 0.019417473669526095,\n",
       "   'p': 0.01098901098901099,\n",
       "   'r': 0.08333333333333333},\n",
       "  'rouge-l': {'f': 0.0949960697176404, 'p': 0.09243697478991597, 'r': 0.5}}]"
      ]
     },
     "execution_count": 23,
     "metadata": {},
     "output_type": "execute_result"
    }
   ],
   "source": [
    "rouge.get_scores(wf_summary1, df['summary_number_1'][0])"
   ]
  },
  {
   "cell_type": "markdown",
   "metadata": {},
   "source": [
    "## 4. TextRank Algorithms\n",
    "- Graph based algorithm"
   ]
  },
  {
   "cell_type": "markdown",
   "metadata": {},
   "source": [
    "Basic steps\n",
    "- Cleaning Text (remove punctuation, Stopwords, stemming)\n",
    "- Vector representation of sentences: **This part can be customized by using different pre-trained vectorization models or train your own model**\n",
    "- Use cosine similarity find similarity of sentences\n",
    "- Apply PageRank algorithm: use networkx(networkx.score) to rank sentences\n",
    "- Extract top N sentences as summary\n",
    "\n",
    "Skip implementation, there are >3 existing packages using graph"
   ]
  },
  {
   "cell_type": "markdown",
   "metadata": {},
   "source": [
    "### 4.1 Gensim summarizer\n",
    "https://github.com/RaRe-Technologies/gensim/tree/develop/gensim/summarization"
   ]
  },
  {
   "cell_type": "markdown",
   "metadata": {},
   "source": [
    "### 4.2 Pytextrank package\n",
    "https://github.com/DerwenAI/pytextrank/blob/master/explain_summ.ipynb"
   ]
  },
  {
   "cell_type": "code",
   "execution_count": 8,
   "metadata": {},
   "outputs": [],
   "source": [
    "import textrank_graph_model as tr"
   ]
  },
  {
   "cell_type": "code",
   "execution_count": 29,
   "metadata": {},
   "outputs": [
    {
     "data": {
      "text/plain": [
       "\"In closing, this is a fantastic GPS with some very nice features and is very accurate in directions .\\nThe map is pretty accurate and the Point of interest database also is good .\\nThe most accurate review stated that these machines are adjunct to a good map and signs on the interstate .\\nWhile the 255W routing seems generally accurate and logical, on my first use I discovered that it does have some errors in its internal map .\\nIt has worked well for local driving giving accurate directions for roads and streets .\\nLess traveled rural roads will not be accurate on any unit .\\nThe Garmin is loaded with very accurate maps that generally know the roads in even the remotest areas .\\nI'm really glad I bought it though, and like the easy to read graphics, the voice used to tell you the name of the street you are to turn on, the uncannily accurate estimates of mileage and time of arrival at your destination .\\nMy new Garmin 255w had very Easy Set Up, Accurate Directions to locations, User Friendly Unit to anyone in my vehicle who tried it .\\nThe directions provided have all been quite accurate thus far .\\nEasy to use and amazed at how accurate this item is .\\nTo date it's been a very easy to use and accurate .\\nI can't believe how accurate and detailed the information estimated time of arrival,speed limits along the way,and detailed map of my route, to name a few .\""
      ]
     },
     "execution_count": 29,
     "metadata": {},
     "output_type": "execute_result"
    }
   ],
   "source": [
    "tr_summary1 = tr.gensim_summarize(text1) # summary output fro gensim package\n",
    "tr_summary1"
   ]
  },
  {
   "cell_type": "markdown",
   "metadata": {},
   "source": [
    "**summary of text rank model on text1**\n",
    "\n",
    "1-gram F1-score: 0.156"
   ]
  },
  {
   "cell_type": "code",
   "execution_count": 30,
   "metadata": {
    "scrolled": true
   },
   "outputs": [
    {
     "data": {
      "text/plain": [
       "[{'rouge-1': {'f': 0.15568862046685075,\n",
       "   'p': 0.0896551724137931,\n",
       "   'r': 0.5909090909090909},\n",
       "  'rouge-2': {'f': 0.015444013762466456,\n",
       "   'p': 0.00851063829787234,\n",
       "   'r': 0.08333333333333333},\n",
       "  'rouge-l': {'f': 0.08436906415331696,\n",
       "   'p': 0.08275862068965517,\n",
       "   'r': 0.5454545454545454}}]"
      ]
     },
     "execution_count": 30,
     "metadata": {},
     "output_type": "execute_result"
    }
   ],
   "source": [
    "rouge.get_scores(tr_summary1, df['summary_number_1'][0])"
   ]
  },
  {
   "cell_type": "markdown",
   "metadata": {},
   "source": [
    "## 5. Kmean clustering of sentence embedding using Bert"
   ]
  },
  {
   "cell_type": "markdown",
   "metadata": {},
   "source": [
    "### 5. 1 Impelemtation leveraging Bert Pretrained pytorch Model\n",
    "\n",
    "https://pypi.org/project/pytorch-pretrained-bert/"
   ]
  },
  {
   "cell_type": "markdown",
   "metadata": {},
   "source": [
    "#### Implementation\n",
    "\n",
    "- Step 1: Tokenize paragraph into sentences\n",
    "- Step 2: Format each sentence as Bert input format, and Use Bert tokenizer to tokenize each sentence into words\n",
    "- Step 3: Call Bert pretrained model, conduct word embedding, obtain embeded word vector for each sentence.(The Bert output is a 12-layer latent vector) \n",
    "- Step 4: Decide how to use the 12-layer latent vector: \n",
    "    - 1) Use only the last layer; \n",
    "    - 2) Average all or last 4 layers, and more...\n",
    "- Step 5: Apply pooling strategy to obtain sentence embedding from word embedding, eg. mean, max of all word vector\n",
    "- Step 6: Obtain sentence vector for each sentence in the paragraph, apply Kmeans, Gaussian Mixture, etc to cluster similar sentence\n",
    "- Step 7: Return the closest sentence to each centroid (euclidean distance) as the summary, ordered by appearance\n"
   ]
  },
  {
   "cell_type": "code",
   "execution_count": 9,
   "metadata": {},
   "outputs": [],
   "source": [
    "import bert_clustering_summary as bs"
   ]
  },
  {
   "cell_type": "code",
   "execution_count": 8,
   "metadata": {},
   "outputs": [
    {
     "data": {
      "text/plain": [
       "\", and is very, very accurate . but for the most part, we find that the Garmin software provides accurate directions, whereever we intend to go . It got me from point A to point B with 100% accuracy everytime . Plus, I've always heard that there are  quirks  with any GPS being accurate, having POIs, etc . I updated to the latest 2010 map soon after I received the unit, so the map is accurate to me . 0 out of 5 stars Inexpensive, accurate, plenty of features, August 6, 2009  The only glitch I have found so far is that the speed limits are not 100% accurate, although the GPS, amazingly, is able to very accurately tell you how fast your vehicle is moving . The Garmin is loaded with very accurate maps that generally know the roads in even the remotest areas . Easy to use and amazed at how accurate this item is . seems to be rather accurate .\""
      ]
     },
     "execution_count": 8,
     "metadata": {},
     "output_type": "execute_result"
    }
   ],
   "source": [
    "bs_summary1 = bs.bertSummarize(text1)\n",
    "bs_summary1"
   ]
  },
  {
   "cell_type": "markdown",
   "metadata": {},
   "source": [
    "**Summary of BERT clustering model on text1**\n",
    "\n",
    "1-gram F1-score: 0.155"
   ]
  },
  {
   "cell_type": "code",
   "execution_count": 11,
   "metadata": {},
   "outputs": [
    {
     "data": {
      "text/plain": [
       "[{'rouge-1': {'f': 0.15503875686076563,\n",
       "   'p': 0.09345794392523364,\n",
       "   'r': 0.45454545454545453},\n",
       "  'rouge-2': {'f': 0.01136363400826495,\n",
       "   'p': 0.006578947368421052,\n",
       "   'r': 0.041666666666666664},\n",
       "  'rouge-l': {'f': 0.08691250482501124,\n",
       "   'p': 0.08411214953271028,\n",
       "   'r': 0.4090909090909091}}]"
      ]
     },
     "execution_count": 11,
     "metadata": {},
     "output_type": "execute_result"
    }
   ],
   "source": [
    "rouge.get_scores(bs_summary1, df['summary_number_1'][0])"
   ]
  },
  {
   "cell_type": "markdown",
   "metadata": {},
   "source": [
    "### 5.2 Another package using similar implementation\n",
    "bert-extractive-summarizer\n",
    "\n",
    "https://github.com/dmmiller612/bert-extractive-summarizer"
   ]
  },
  {
   "cell_type": "code",
   "execution_count": null,
   "metadata": {},
   "outputs": [],
   "source": [
    "from summarizer import Summarizer"
   ]
  },
  {
   "cell_type": "code",
   "execution_count": null,
   "metadata": {},
   "outputs": [],
   "source": [
    "model = Summarizer()"
   ]
  },
  {
   "cell_type": "code",
   "execution_count": 95,
   "metadata": {},
   "outputs": [],
   "source": [
    "bert_sum = model(text1)"
   ]
  },
  {
   "cell_type": "markdown",
   "metadata": {},
   "source": [
    "**summary of bert-extractive-summarizer on text1**\n",
    "\n",
    "1-gram F1-score: 0.149"
   ]
  },
  {
   "cell_type": "code",
   "execution_count": 98,
   "metadata": {},
   "outputs": [
    {
     "data": {
      "text/plain": [
       "[{'rouge-1': {'f': 0.14864864611760412, 'p': 0.0873015873015873, 'r': 0.5},\n",
       "  'rouge-2': {'f': 0.00884955562377674,\n",
       "   'p': 0.0049504950495049506,\n",
       "   'r': 0.041666666666666664},\n",
       "  'rouge-l': {'f': 0.08948674903910868, 'p': 0.0873015873015873, 'r': 0.5}}]"
      ]
     },
     "execution_count": 98,
     "metadata": {},
     "output_type": "execute_result"
    }
   ],
   "source": [
    "rouge.get_scores(bert_sum, df['summary_number_1'][0])"
   ]
  },
  {
   "cell_type": "markdown",
   "metadata": {},
   "source": [
    "## 6. Test and Compare using Opinosis Dataset"
   ]
  },
  {
   "cell_type": "markdown",
   "metadata": {},
   "source": [
    "### 6.1 Produce summary and compute ROUGE score from each model"
   ]
  },
  {
   "cell_type": "code",
   "execution_count": 7,
   "metadata": {},
   "outputs": [
    {
     "data": {
      "text/plain": [
       "Index(['text', 'topics', 'summary_number_1', 'summary_number_2',\n",
       "       'summary_number_3', 'summary_number_4', 'summary_number_5'],\n",
       "      dtype='object')"
      ]
     },
     "execution_count": 7,
     "metadata": {},
     "output_type": "execute_result"
    }
   ],
   "source": [
    "df.columns"
   ]
  },
  {
   "cell_type": "code",
   "execution_count": 12,
   "metadata": {},
   "outputs": [],
   "source": [
    "df['wf_summary'] = df['text'].apply(lambda x: wf.summarize_text_wf(x))\n",
    "df['wf_rouge1_f1'] = df[['wf_summary','summary_number_1']]. \\\n",
    "                apply(lambda x: rouge.get_scores(x[0],x[1])[0]['rouge-1']['f'],axis=1)"
   ]
  },
  {
   "cell_type": "code",
   "execution_count": 29,
   "metadata": {},
   "outputs": [],
   "source": [
    "df['tr_summary'] = df['text'].apply(lambda x: tr.gensim_summarize(x))\n",
    "df['tr_rouge1_f1'] = df[['tr_summary','summary_number_1']]. \\\n",
    "                apply(lambda x: rouge.get_scores(x[0],x[1])[0]['rouge-1']['f'],axis=1)"
   ]
  },
  {
   "cell_type": "code",
   "execution_count": 63,
   "metadata": {},
   "outputs": [],
   "source": [
    "df['bs_summary'] = df['text'].apply(lambda x: bs.bertSummarize(x))\n",
    "df['bs_rouge1_f1'] = df[['bs_summary','summary_number_1']]. \\\n",
    "                apply(lambda x: rouge.get_scores(x[0],x[1])[0]['rouge-1']['f'],axis=1)"
   ]
  },
  {
   "cell_type": "code",
   "execution_count": 65,
   "metadata": {},
   "outputs": [
    {
     "data": {
      "text/plain": [
       "(0.10086302166961408, 0.09081258684152636, 0.11577391319962924)"
      ]
     },
     "execution_count": 65,
     "metadata": {},
     "output_type": "execute_result"
    }
   ],
   "source": [
    "np.mean(df['tr_rouge1_f1']),np.mean(df['wf_rouge1_f1']),np.mean(df['bs_rouge1_f1'])"
   ]
  },
  {
   "cell_type": "code",
   "execution_count": 66,
   "metadata": {},
   "outputs": [],
   "source": [
    "df.to_csv('opniosis with summary.csv')"
   ]
  },
  {
   "cell_type": "markdown",
   "metadata": {},
   "source": [
    "### 6.2 Plot and Compare"
   ]
  },
  {
   "cell_type": "code",
   "execution_count": 36,
   "metadata": {},
   "outputs": [],
   "source": [
    "from matplotlib import pyplot as plt\n",
    "import seaborn as sns"
   ]
  },
  {
   "cell_type": "code",
   "execution_count": 83,
   "metadata": {},
   "outputs": [
    {
     "data": {
      "text/plain": [
       "Text(0.5, 1.0, 'ROUGE-1 Score Density')"
      ]
     },
     "execution_count": 83,
     "metadata": {},
     "output_type": "execute_result"
    },
    {
     "data": {
      "image/png": "[encoded data removed]",
      "text/plain": [
       "<Figure size 720x288 with 1 Axes>"
      ]
     },
     "metadata": {
      "needs_background": "light"
     },
     "output_type": "display_data"
    },
    {
     "data": {
      "image/png": "[encoded data removed]",
      "text/plain": [
       "<Figure size 720x288 with 1 Axes>"
      ]
     },
     "metadata": {
      "needs_background": "light"
     },
     "output_type": "display_data"
    }
   ],
   "source": [
    "plt.figure(figsize=(10,4))\n",
    "\n",
    "x = ['Word frequency model','Text rank model','BERT clustering model']\n",
    "ROUGE1_mean = [0.10086302166961408, 0.09081258684152636, 0.11577391319962924]\n",
    "\n",
    "x_pos = [i for i, _ in enumerate(x)]\n",
    "\n",
    "plt.bar(x_pos, ROUGE1_mean, color=['#E69F00','#56B4E9','#009E73'])\n",
    "\n",
    "\n",
    "plt.xlabel('Rouge_1-gram_F1 score')\n",
    "plt.ylabel('Mean')\n",
    "plt.title(\"ROUGE-1 Score Mean\")\n",
    "\n",
    "plt.xticks(x_pos, x)\n",
    "\n",
    "plt.figure(figsize=(10,4))\n",
    "\n",
    "sns.distplot(df['wf_rouge1_f1'], hist=False, kde=True, color = '#E69F00', \n",
    "             kde_kws={'linewidth': 4},label='Word frequency model')\n",
    "\n",
    "sns.distplot(df['tr_rouge1_f1'], hist=False, kde=True,color = '#56B4E9',\n",
    "             kde_kws={'linewidth': 4},label='Text rank model')\n",
    "\n",
    "sns.distplot(df['bs_rouge1_f1'], hist=False, kde=True,color = '#009E73',\n",
    "             kde_kws={'linewidth': 4},label='BERT clustering model')\n",
    "\n",
    "plt.legend(prop={'size': 10}, title = 'Models')\n",
    "\n",
    "plt.xlabel('Rouge_1-gram_F1 score')\n",
    "plt.ylabel('Density')\n",
    "plt.title(\"ROUGE-1 Score Density\")\n"
   ]
  },
  {
   "cell_type": "markdown",
   "metadata": {},
   "source": [
    "### It seems the clustering summary using BERT embedding is slightly better than word frequency and text rank model summary!\n",
    "\n",
    "#### Future work could be considered to \n",
    "- 1) Try out different BERT layers to produce the latent vectors (word embedding)\n",
    "- 2) Try different pooling strategy from word vector to sentence vectors\n",
    "- 3) Some other clustering method\n",
    "\n",
    "#### Use supervise learning to fine tune BERT model for summarization purpose could be another topic to develop\n",
    "https://arxiv.org/pdf/1903.10318.pdf"
   ]
  }
 ],
 "metadata": {
  "kernelspec": {
   "display_name": "Python 3",
   "language": "python",
   "name": "python3"
  },
  "language_info": {
   "codemirror_mode": {
    "name": "ipython",
    "version": 3
   },
   "file_extension": ".py",
   "mimetype": "text/x-python",
   "name": "python",
   "nbconvert_exporter": "python",
   "pygments_lexer": "ipython3",
   "version": "3.7.1"
  }
 },
 "nbformat": 4,
 "nbformat_minor": 2
}
